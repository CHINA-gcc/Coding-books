{
 "cells": [
  {
   "cell_type": "markdown",
   "metadata": {},
   "source": [
    "- 一个字节是计算机内存的最小单位, 由8个二进制位组成.\n",
    "- 一个中文汉字占三个字节.\n",
    "- ord 将 一个字符 转换为 unicode 编号. 字符集实现了对编号的存储.\n",
    "- 字符可以转换为字节码, 字节码可转化为二进制数.()"
   ]
  },
  {
   "cell_type": "code",
   "execution_count": null,
   "metadata": {},
   "outputs": [],
   "source": [
    "'家'.encode('utf-8')--三个字节 / '家'.encode('gbk')--两个字节"
   ]
  },
  {
   "cell_type": "code",
   "execution_count": null,
   "metadata": {},
   "outputs": [],
   "source": [
    "# 单向加密(解决数据完整性, MD5、SHA系列)\n",
    "\n",
    "|加密方式|描述|解决的问题|常见算法|\n",
    "|--|--|--|--|\n",
    "|对称加密|加/解密使用不同密钥|数据的机密性|DES、AES|\n",
    "|非对称加密|加/解密使用不同密钥|身份验证|DSA、RSA|\n",
    "|单向加密|只能加密||数据完整性|MD5、SHA系列|"
   ]
  }
 ],
 "metadata": {
  "kernelspec": {
   "display_name": "Python 3",
   "language": "python",
   "name": "python3"
  },
  "language_info": {
   "codemirror_mode": {
    "name": "ipython",
    "version": 3
   },
   "file_extension": ".py",
   "mimetype": "text/x-python",
   "name": "python",
   "nbconvert_exporter": "python",
   "pygments_lexer": "ipython3",
   "version": "3.7.5"
  }
 },
 "nbformat": 4,
 "nbformat_minor": 4
}
