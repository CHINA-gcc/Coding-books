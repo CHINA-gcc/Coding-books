{
 "cells": [
  {
   "cell_type": "markdown",
   "metadata": {},
   "source": [
    "## 锁"
   ]
  },
  {
   "cell_type": "code",
   "execution_count": 1,
   "metadata": {},
   "outputs": [
    {
     "name": "stdout",
     "output_type": "stream",
     "text": [
      "0\n"
     ]
    },
    {
     "name": "stderr",
     "output_type": "stream",
     "text": [
      "Exception in thread Thread-7:\n",
      "Traceback (most recent call last):\n",
      "  File \"c:\\users\\gcc\\appdata\\local\\programs\\python\\python37\\lib\\threading.py\", line 926, in _bootstrap_inner\n",
      "    self.run()\n",
      "  File \"c:\\users\\gcc\\appdata\\local\\programs\\python\\python37\\lib\\threading.py\", line 870, in run\n",
      "    self._target(*self._args, **self._kwargs)\n",
      "  File \"<ipython-input-1-03b20e1a8f70>\", line 16, in func_2\n",
      "    Lock.acquire()               # 申请锁, 阻塞\n",
      "AttributeError: 'builtin_function_or_method' object has no attribute 'acquire'\n",
      "Exception in thread Thread-6:\n",
      "Traceback (most recent call last):\n",
      "  File \"c:\\users\\gcc\\appdata\\local\\programs\\python\\python37\\lib\\threading.py\", line 926, in _bootstrap_inner\n",
      "    self.run()\n",
      "  File \"c:\\users\\gcc\\appdata\\local\\programs\\python\\python37\\lib\\threading.py\", line 870, in run\n",
      "    self._target(*self._args, **self._kwargs)\n",
      "  File \"<ipython-input-1-03b20e1a8f70>\", line 9, in func_1\n",
      "    Lock.acquire()               # 申请锁, 阻塞\n",
      "AttributeError: 'builtin_function_or_method' object has no attribute 'acquire'\n",
      "\n",
      "\n"
     ]
    }
   ],
   "source": [
    "from threading import Thread\n",
    "from threading import Lock\n",
    "\n",
    "\n",
    "a = 0\n",
    "\n",
    "def func_1():\n",
    "    global a\n",
    "    Lock.acquire()               # 申请锁, 阻塞\n",
    "    for i in range(100000):\n",
    "        a += 1\n",
    "    Lock.locked()                # 释放锁\n",
    "\n",
    "def func_2():\n",
    "    global a\n",
    "    Lock.acquire()               # 申请锁, 阻塞\n",
    "    for i in range(100000):\n",
    "        a -= 1\n",
    "    Lock.locked()                # 释放锁\n",
    "\n",
    "\n",
    "if __name__ == \"__main__\":\n",
    "    p1 = Thread(target=func_1)\n",
    "    p2 = Thread(target=func_2)\n",
    "    p1.start()\n",
    "    p2.start()\n",
    "    print(a)"
   ]
  },
  {
   "cell_type": "code",
   "execution_count": null,
   "metadata": {},
   "outputs": [],
   "source": []
  }
 ],
 "metadata": {
  "kernelspec": {
   "display_name": "Python 3",
   "language": "python",
   "name": "python3"
  },
  "language_info": {
   "codemirror_mode": {
    "name": "ipython",
    "version": 3
   },
   "file_extension": ".py",
   "mimetype": "text/x-python",
   "name": "python",
   "nbconvert_exporter": "python",
   "pygments_lexer": "ipython3",
   "version": "3.7.5"
  }
 },
 "nbformat": 4,
 "nbformat_minor": 4
}
