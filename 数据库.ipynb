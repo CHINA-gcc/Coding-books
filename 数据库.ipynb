{
 "cells": [
  {
   "cell_type": "markdown",
   "metadata": {},
   "source": [
    "## MySQL"
   ]
  },
  {
   "cell_type": "markdown",
   "metadata": {},
   "source": [
    "- MySQL 存储以字节为单位, 一个中文占三个字节.\n",
    "- "
   ]
  },
  {
   "cell_type": "code",
   "execution_count": null,
   "metadata": {},
   "outputs": [],
   "source": [
    "### Library level command\n",
    "\n",
    "create database if not exists erp_name charset=utf8;\n",
    "drop database if exists db_name;\n",
    "use db_name;     "
   ]
  },
  {
   "cell_type": "code",
   "execution_count": null,
   "metadata": {},
   "outputs": [],
   "source": [
    "### Table level command\n",
    "\n",
    "show tables;\n",
    "desc <table>;                                             --> Specific contents of display table.\n",
    "create table table_name(id int, parameter varchar(64), age tinyint, parameter enum(\"parameter1\"，\"parameter2\"));     \n",
    "show create table table_name; 　　　　　　　　            --> Display creation information.\n",
    "drop table if exists table_name; 　　　       "
   ]
  },
  {
   "cell_type": "code",
   "execution_count": null,
   "metadata": {},
   "outputs": [],
   "source": [
    "### Insert data\n",
    "\n",
    "insert into table_name (id, name) values (1, 'gcc');                --> Insert the specified field.\n",
    "insert into table_name values (2, 'liangzi', 18);                   --> Full field insertion.\n",
    "insert into table_name values (...),(...);                         --> Multi line insertion."
   ]
  },
  {
   "cell_type": "code",
   "execution_count": null,
   "metadata": {},
   "outputs": [],
   "source": [
    "### Delete data\n",
    "\n",
    "delete from table_name where id is NULL"
   ]
  },
  {
   "cell_type": "code",
   "execution_count": null,
   "metadata": {},
   "outputs": [],
   "source": [
    "### Update data\n",
    "\n",
    "update table_name set ...=... where ...=...;      Modify eligible data."
   ]
  },
  {
   "cell_type": "markdown",
   "metadata": {},
   "source": [
    "### Query data"
   ]
  },
  {
   "cell_type": "code",
   "execution_count": null,
   "metadata": {},
   "outputs": [],
   "source": [
    "select * from table_name;          　　                                                  --> Full field query.\n",
    "select name, age from table_name;  　　　　　                                            --> Specified field query.\n",
    "select * from table_name where ...=...; / select * from table_name where ...>...;   　 --> Conditional query."
   ]
  },
  {
   "cell_type": "code",
   "execution_count": null,
   "metadata": {},
   "outputs": [],
   "source": [
    "### Comparison operator(比较运算符)\n",
    "=                                     --> Be equal to.\n",
    "!=　　　　　　　　　　　　　　　　    --> Not equal to.\n",
    "is null　　　　　　　　　　　　　     --> Empty.\n",
    "is not null\n",
    "\n",
    "\n",
    "### Logical operator(逻辑运算符)\n",
    "and / or / not\n",
    "\n",
    "\n",
    "### 排序\n",
    "order by ... asc　　　　　　　　　　　　　             --> Ranking from small to large.\n",
    "select * from table_name order by ...asc;\n",
    "\n",
    "order by ... desc　　　　　　　　　　　　　            --> Ranking from large to small.\n",
    "select * from table_name order by ...asc;\n",
    "\n",
    "order by ... limit n　　　　　　　　　　　　　         --> So long as n.\n",
    "\n",
    "order by ... limit n, m　　　　　　　　　　　　        --> Offset n, get m from n+1.\n",
    "\n",
    "select distinct field_name from table_name;　　　　　  --> Remove duplication(去掉重复)."
   ]
  },
  {
   "cell_type": "code",
   "execution_count": null,
   "metadata": {},
   "outputs": [],
   "source": [
    "### Fuzzy query\n",
    "\n",
    "select * from table_name where field_name like \"%...%\";　　　          --> % 代表任意多个字符, like 与 where 连用.\n",
    "\n",
    "select * from table_name where field_name like \"g__\";　　　　　        --> _ 代表任意一个字符, 查询以g开头后面是两个字符的数据.\n",
    "\n",
    "\n",
    "# POINT:如果 like 不和 % 或 _ 一起用, 就等同于 =(等于)."
   ]
  },
  {
   "cell_type": "code",
   "execution_count": null,
   "metadata": {},
   "outputs": [],
   "source": [
    "### Scope query(范围查询)\n",
    "\n",
    "select * from table_name where field_name between ... and ...;        --> between a and b (Continuous range, including a , b).\n",
    "\n",
    "select * from table_name where field_name in('...', '...')　　　　     --> Interval range."
   ]
  },
  {
   "cell_type": "code",
   "execution_count": null,
   "metadata": {},
   "outputs": [],
   "source": [
    "## Aggregation and grouping(聚合分组)\n",
    "\n",
    "#### Statistics(统计)\n",
    "select count(id) from table_name where ...>...;    　　　　　　　　　 --> Generally write id.\n",
    "select sum(field_name) from table_name where ...;       　　　　　　　 --> Summation.\n",
    "select avg(field_name) from table_name;     　　　　　　　　　　　　　 --> Average value.\n",
    "select max(field_name) from table_name;                                --> Maximum value.\n",
    "\n",
    "# POINT:All tables are replaced by tables！字段里有 NULL 不会计算进去.\n",
    "\n",
    "\n",
    "\n",
    "#### Groping(分组)\n",
    "select field1_name, sum(field_name) from A_table_name group by B_field_name;               --> 从 A表 以 字段B 分组出 两个字段数据.\n",
    "\n",
    "select field1_name, field2_name as field3_name from table_name group by field_name;　　　　--> as 代表别名.\n",
    "\n",
    "        having        --> Where keywords cannot be used with statistical functions(WHERE字句无法和统计函数用在一起) \n",
    "    \n",
    "    Example：select field1, field2 as field3 from table_name group by field_name having sum(filed_name) > ...\n",
    "                select field1, field2 as field3 from table_name where field like \"%...%\" group by field having ...\n",
    "        \n",
    "A query statement contains alias(as) 、aggregation functions、where and having，It first executes where,then aggregation \n",
    "    functions and alias,and finally having. Where condition should be written before group by."
   ]
  },
  {
   "cell_type": "code",
   "execution_count": null,
   "metadata": {},
   "outputs": [],
   "source": [
    "### Subquery\n",
    "\n",
    "select * from table_name where field1_name < (select avg(field2_name) from table_name);\n",
    "select * from demo_table.field1, demo_table.field2 from (select * from table_name where ...) as demo_table; "
   ]
  },
  {
   "cell_type": "code",
   "execution_count": null,
   "metadata": {},
   "outputs": [],
   "source": [
    "## Join query\n",
    "\n",
    "#### Inner join\n",
    "select * from table_name1 inner join table_name2;　　　　　　　　　　　　　　　　　　   --> 无条件内连接 / 交叉连接 / 笛卡尔连接.\n",
    "select A_table.field, field from A_table inner join B_table on field1=field2;　　　     --> 有条件内连接.\n",
    "\n",
    "\n",
    "#### External connection\n",
    "left join　When two tables are joined, if the join conditions do not match, the data in the left table is retained, \n",
    "    while the right table is filled with NULL.\n",
    "right join　When two tables are joined, if the join conditions do not match, the data in the right table is retained, \n",
    "    while the left tables is filled with NULL."
   ]
  },
  {
   "cell_type": "code",
   "execution_count": null,
   "metadata": {},
   "outputs": [],
   "source": [
    "## 约束条件(一般表创建时)\n",
    "\n",
    "#### 默认约束(default)\n",
    "field_name field_type default value;        --> 插入数据时无默认值，为 NULL, 否则 将自动设为默认值.\n",
    "\n",
    "\n",
    "#### 非空约束(not NULL)\n",
    "\n",
    "\n",
    "--> 一般与 default 配合使用. insert 时必须为该字段赋值, 但是 enum('A', 'B') 被修饰的时候 默认为 A."
   ]
  },
  {
   "cell_type": "code",
   "execution_count": null,
   "metadata": {},
   "outputs": [],
   "source": []
  },
  {
   "cell_type": "markdown",
   "metadata": {},
   "source": [
    "### ORM 之 SQLAlchemy"
   ]
  },
  {
   "cell_type": "code",
   "execution_count": null,
   "metadata": {},
   "outputs": [],
   "source": [
    "from sqlalchemy import create_engine\n",
    "from sqlalchemy.ext.declarative import declarative_base\n",
    "from sqlalchemy.orm import sessionmaker\n",
    "\n",
    "HOST = \"127.0.0.1\" / PORT / DATABASE / USERNAME / PASSWORD\n",
    "DB_URI = 'mysql+pymysql://{}:{}@{}:{}/{}?charset=utf8'.format(\n",
    "    USERNAME, PASSWORD, HOST, PORT, DATABASE\n",
    ")\n",
    "\n",
    "# Version >= 3.6\n",
    "HOST = 127.0.0.1 / PORT\n",
    "DB_URI = f'mysql+pymysql://{HOST}:{PORT}'\n",
    "\n",
    "engine = create_engine(DB_URI)\n",
    "Base = declarative_base(engine)\n",
    "Session = sesionmaker(bind=engine)\n",
    "\n",
    "\n",
    "SHOW VARIABLES LIKE 'character%';         # 查看字符集\n",
    "SHOW GRANTS FOR admin;                    #查看权限\n",
    "\n",
    "# 测试连接\n",
    "if __name__ == \"__main__\":\n",
    "    connection = engine.connect()\n",
    "    result = connection.excute('select 1')\n",
    "    print(result.fetchone())\n",
    "    \n",
    "\n",
    "# 表数据进行增删改查之前需要建立会话\n",
    "IPYTHON:\n",
    "\n",
    "from models.db import Session\n",
    "\n",
    "person = User(name='', password='')\n",
    "Session().add(person)\n",
    "Session().add_all([User(...), User(...)])\n",
    "Session().commit()\n",
    "\n",
    "Session().query(User).all()\n",
    "Session().query(User).first()\n",
    "Session().query(User).filter(User.name==\"...\").first()\n",
    "Session().query(User).filter_by(name='...').first()\n",
    "\n",
    "Session().query(User).filter(User.name=='...').update({User.password: 123})\n",
    "Session().commit()\n",
    "\n",
    "Session().delete(Session().query(User).filter(User.name==\"...\")[0...])"
   ]
  },
  {
   "cell_type": "code",
   "execution_count": null,
   "metadata": {},
   "outputs": [],
   "source": []
  }
 ],
 "metadata": {
  "kernelspec": {
   "display_name": "Python 3",
   "language": "python",
   "name": "python3"
  },
  "language_info": {
   "codemirror_mode": {
    "name": "ipython",
    "version": 3
   },
   "file_extension": ".py",
   "mimetype": "text/x-python",
   "name": "python",
   "nbconvert_exporter": "python",
   "pygments_lexer": "ipython3",
   "version": "3.7.5"
  }
 },
 "nbformat": 4,
 "nbformat_minor": 4
}
