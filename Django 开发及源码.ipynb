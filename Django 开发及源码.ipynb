{
 "cells": [
  {
   "cell_type": "markdown",
   "metadata": {},
   "source": [
    "## 登录模块"
   ]
  },
  {
   "cell_type": "code",
   "execution_count": null,
   "metadata": {},
   "outputs": [],
   "source": [
    "# 在users目录下的views.py文件中定义如下类：\n",
    "\n",
    "class LoginView(View):\n",
    "    \"\"\"Login\"\"\"\n",
    "    def get(self, request):\n",
    "        return render(request, '...')\n",
    "\n",
    "    def post(self, request):\n",
    "        json_data = request.body\n",
    "        if not json_data:\n",
    "            return to_json_data(errno=Code.PARAMERR, errmsg=error_map[Code.PARAMERR])\n",
    "        \n",
    "        # 将json转化为dict\n",
    "        dict_data = json.loads(json_data.decode('utf8')) # 没有解码，会产生bug\n",
    "        form = LoginForm(data=dict_data, request=request)\n",
    "        if form.is_valid():\n",
    "            return to_json_data(errmsg=\"恭喜您，登录成功！\")\n",
    "        else:\n",
    "            # 定义一个错误信息列表\n",
    "            err_msg_list = []\n",
    "            for item in form.errors.get_json_data().values():\n",
    "                err_msg_list.append(item[0].get('message'))\n",
    "            err_msg_str = '/'.join(err_msg_list)  # 拼接错误信息为一个字符串\n",
    "\n",
    "            return to_json_data(errno=Code.PARAMERR, errmsg=err_msg_str)"
   ]
  },
  {
   "cell_type": "code",
   "execution_count": null,
   "metadata": {},
   "outputs": [],
   "source": []
  }
 ],
 "metadata": {
  "kernelspec": {
   "display_name": "Python 3",
   "language": "python",
   "name": "python3"
  },
  "language_info": {
   "codemirror_mode": {
    "name": "ipython",
    "version": 3
   },
   "file_extension": ".py",
   "mimetype": "text/x-python",
   "name": "python",
   "nbconvert_exporter": "python",
   "pygments_lexer": "ipython3",
   "version": "3.7.5"
  }
 },
 "nbformat": 4,
 "nbformat_minor": 4
}
