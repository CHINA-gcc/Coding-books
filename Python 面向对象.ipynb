{
 "cells": [
  {
   "cell_type": "markdown",
   "metadata": {},
   "source": [
    "### 字符串"
   ]
  },
  {
   "cell_type": "code",
   "execution_count": null,
   "metadata": {},
   "outputs": [],
   "source": [
    "# settings.py 文件\n",
    "class Foo:\n",
    "    pass\n",
    "\n",
    "# instence.py 文件\n",
    "import importlib\n",
    "config = \"settings.Foo\"\n",
    "L, C = config.rstrip('.', maxsplit=1)\n",
    "X = importlib.import_module(L)\n",
    "cls = getattr(X, C)\n",
    "\n",
    "\n",
    "for key in dir(cls):\n",
    "    "
   ]
  },
  {
   "cell_type": "code",
   "execution_count": null,
   "metadata": {},
   "outputs": [],
   "source": [
    "from datetime import date, time, datetime, timedelta\n",
    "\n",
    "date(year, month, day) --> date object\n",
    "time(hour=23, minute=59, second=59, microsecond=100) --> time object\n",
    "datetime(year, month, day) --> 年、月、日必须具备."
   ]
  },
  {
   "cell_type": "markdown",
   "metadata": {},
   "source": [
    "### 数据可视化"
   ]
  },
  {
   "cell_type": "code",
   "execution_count": null,
   "metadata": {},
   "outputs": [],
   "source": [
    "import matplotlib.pyplot as plt\n",
    "\n",
    "# pie(x, explode=None, labels=None, colors=None, autopct=None, pctdistance=0.6, labeldistance=1.1)\n",
    "# explode 指定饼图某些部分突出显示\n",
    "labels 添加标签说明\n",
    "colors 填充色\n",
    "autopct 自动添加百分比显示\n",
    "pctdistance 百分比与圆心距离\n",
    "\n",
    "data_info = [0.2515, 0.3724, 0.3336, 0.0368, 0.0057]\n",
    "labels = ['music', 'video', 'food', 'travel', 'photo']\n",
    "\n",
    "plt.pie(x=data_info, labels=labels, autopct='%.1f%%')\n",
    "plt.show()"
   ]
  },
  {
   "cell_type": "code",
   "execution_count": null,
   "metadata": {},
   "outputs": [],
   "source": [
    "import numpy as np\n",
    "# 等长序列组成的列表会被转换为一个多维数组.\n",
    "data_info = [data0, data1]\n",
    "data_info = np.array(data_info)\n",
    "\n",
    "# 创建全0的数组\n",
    "np.zeros((3, 3))\n",
    "\n",
    "# 创建全1的数组\n",
    "np.ones((3, 3))\n",
    "\n",
    "# 创建 1-10 且长度为2的等差数列.\n",
    "np.arrange(1, 10, 2)\n",
    "\n",
    "# 分成2个数.\n",
    "np.linspace(1, 10, 2)\n",
    "\n",
    "# 数组索引\n",
    "arr = np.array([[1, 2, 3], [4, 5, 6]])\n",
    "arr = arr[0, 2]\n",
    "\n",
    "# 数组切片\n",
    "arr = np.array([[1, 2, 3], [4, 5, 6]])\n",
    "arr = arr[:1, 0:1]\n",
    "\n",
    "# 数组计算\n",
    "- 四则运算同python一样.\n",
    "arr = np.array([[1, 2, 3], [4, 5, 6]])\n",
    "arr = arr.sum()"
   ]
  },
  {
   "cell_type": "markdown",
   "metadata": {},
   "source": [
    "## 设计模式"
   ]
  },
  {
   "cell_type": "code",
   "execution_count": null,
   "metadata": {},
   "outputs": [],
   "source": []
  },
  {
   "cell_type": "markdown",
   "metadata": {},
   "source": [
    "### 定制属性访问"
   ]
  },
  {
   "cell_type": "code",
   "execution_count": null,
   "metadata": {},
   "outputs": [],
   "source": [
    "hasattr(object, name)　　　　　　　　判断对象里面属性 / 方法(返回 bool 值).\n",
    "getattr(object, name, [default])　　 获取对象属性或方法(不存在打印出默认值).如果返回对象的方法则返回的是方法的内存地址.可以在后面加()运行方法.\n",
    "setattr(object, name, values)　　　　对象属性赋值(若对象不存在先创建再赋值).\n",
    "delattr()"
   ]
  },
  {
   "cell_type": "markdown",
   "metadata": {},
   "source": [
    "## 面向对象"
   ]
  },
  {
   "cell_type": "code",
   "execution_count": 1,
   "metadata": {},
   "outputs": [
    {
     "name": "stdout",
     "output_type": "stream",
     "text": [
      "7\n"
     ]
    }
   ],
   "source": [
    "import functools\n",
    "\n",
    "def func(a, b):\n",
    "    return a + b\n",
    "\n",
    "# print(func(1, 2))\n",
    "\n",
    "# 偏函数, 帮助自动传递参数.\n",
    "new_func = functools.partial(func, 3)\n",
    "print(new_func(4))"
   ]
  },
  {
   "cell_type": "code",
   "execution_count": null,
   "metadata": {},
   "outputs": [],
   "source": [
    "class Base(object):\n",
    "    def func(self):\n",
    "        super(Base, self).func()\n",
    "        print(\"Base.func\")\n",
    "        \n",
    "class Bar(object):\n",
    "    def func(self):\n",
    "        print(\"Bar.func\")\n",
    "        \n",
    "class Foo(Base, Bar):\n",
    "    def func(self):\n",
    "        # super 是根据 类的 __mro__ 方法(继承关系)去找的.\n",
    "        super().func()\n",
    "        super(Foo, self).func()\n",
    "        # 主动执行 Base 类方法\n",
    "        Base().func() -> 对象调用该方法时该方法不加 self.\n",
    "        Base.func(self) -> 类直接调用该方法时加 self.\n",
    "        print(\"Foo.func\")\n",
    "\n",
    "# print(Bar().func()) -> Bar.func\n",
    "# print(Foo.__mro__)\n",
    "\n",
    "print(Base().func()) -> AttributeError: 'super' object has no attribute 'func'.\n"
   ]
  },
  {
   "cell_type": "code",
   "execution_count": null,
   "metadata": {},
   "outputs": [],
   "source": [
    "class Base(object):\n",
    "    \"\"\"\"\"\"\n",
    "    def __init__(self, *args, **kwargs):\n",
    "        self.kwargs = {}\n",
    "        \n",
    "    def __getattr__(self, item):\n",
    "        print(item)\n",
    "        \n",
    "    def __setattr__(self, name, value):\n",
    "        for key in self.kwargs:\n",
    "            print(f\"__init__里只是定义了还未设置, 所以会报错.\n",
    "                  TypeError: 'NoneType' object is not iterable\")\n",
    "    \n",
    "Base()\n",
    "                  \n",
    "\n",
    "class Foo(object):\n",
    "    def __init__(self):\n",
    "        object.__setattr__(self, 'name', {})\n",
    "        \n",
    "    def __setattr__(self, name, value): -> object 类设置了 name={}, 再执行构造函数时将直接打印.\n",
    "        print(self.name)\n",
    "\n",
    "print(Foo())\n",
    "print(Foo().name)"
   ]
  }
 ],
 "metadata": {
  "kernelspec": {
   "display_name": "Python 3",
   "language": "python",
   "name": "python3"
  },
  "language_info": {
   "codemirror_mode": {
    "name": "ipython",
    "version": 3
   },
   "file_extension": ".py",
   "mimetype": "text/x-python",
   "name": "python",
   "nbconvert_exporter": "python",
   "pygments_lexer": "ipython3",
   "version": "3.7.5"
  }
 },
 "nbformat": 4,
 "nbformat_minor": 4
}
