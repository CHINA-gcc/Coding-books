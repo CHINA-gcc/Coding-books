{
 "cells": [
  {
   "cell_type": "markdown",
   "metadata": {},
   "source": [
    "# 空间复杂度"
   ]
  },
  {
   "cell_type": "markdown",
   "metadata": {},
   "source": [
    "### 线性表 \n",
    "- 线性表是 n 个数据元素的有限序列，最常用的是链式表达(线性链表/链表). 在链表中存储的数据元素也叫作结点, 一个结点存储的就是一条数据记录. \n",
    "- 每个结点的结构包括具体的数据值和指向下一个结点的指针.\n",
    "- 链表(单向链表 | 循环链表 | 双向链表 | 双向循环链表)的最前面通常会有个头指针用来指向第一个结点. 链表的最后一个结点的指针是个空指针.\n",
    "> 线性表对数据的存储方式是按照顺序的存储. 如果数据的元素个数不确定且需要经常进行数据的新增和删除时, 那么链表会比较合适. \n",
    "如果数据元素大小确定, 删除插入的操作并不多则数组可能更适合.\n",
    "- 链表在增、删方面可以在 O(1) 的时间复杂度内完成.\n",
    "#### 栈\n",
    "> 栈是一种特殊的线性表(数据节点必须后进先出)\n",
    "- 栈的数据新增 / 删除操作只能在末端进行, 不允许在栈的中间某个结点后新增 / 删除数据.\n",
    "- 表尾用来输入数据, 通常也叫作栈顶(top). 表头就是栈底(bottom). 栈顶和栈底是用来表示这个栈的两个指针. \n",
    "> 栈也有顺序表示和链式表示(顺序栈和链栈).\n",
    "- 栈的新增操作通常也叫作 push 或压栈. 栈的删除操作通常也叫作 pop 或出栈. \n",
    "##### 顺序栈\n",
    "- 栈的顺序存储可以借助数组. 一般会把数组的首元素 / 最后一个元素存在栈底 / 栈顶. 定义一个 top 指针来指示栈顶元素在数组中的位置. 假设栈中只有一个数据元素则 top = 0. 一般以 top 是否为 -1 来判定是否为空栈. 当定义了栈的最大容量为 StackSize 时则栈顶 top 必须小于 StackSize.\n",
    "#### 队列\n",
    "> 队列是一种特殊的线性表(先进先出)\n",
    "> 队列的数据新增操作只能在末端进行，不允许在队列的中间某个结点后新增数据;\n",
    "> 一个队列都依赖队头(front)和队尾(rear)两个指针进行唯一确定. 当队列为空时, front 和 rear 都指向头节点.\n",
    "- 队列的数据新增 / 删除操作在末端 / 始端进行, 不允许在队列的中间某个结点后新增 / 删除数据.\n",
    "##### 顺序队列\n",
    "- 依赖数组实现, 数据在内存中是顺序存储.\n",
    "##### 链式队列\n",
    "- 依赖链表实现, 数据依赖每个结点的指针互联, 在内存中并不是顺序存储. 链式队列是只能尾进头出的线性表的单链表."
   ]
  },
  {
   "cell_type": "markdown",
   "metadata": {},
   "source": [
    "### 栈"
   ]
  },
  {
   "cell_type": "code",
   "execution_count": null,
   "metadata": {},
   "outputs": [],
   "source": [
    "class Stack(object):\n",
    "    \"\"\"基于列表实现栈(先进后出)\"\"\"\n",
    "    def  __init__(self):\n",
    "        self.data = []\n",
    "        \n",
    "    def __push__(self, value):\n",
    "        self.data.append(value)\n",
    "        print(self.data)\n",
    "        \n",
    "    def __pop__(self, value):\n",
    "        return self.data.pop(value)\n",
    "    \n",
    "    def __top__(self, value):\n",
    "        return self.data[-1]\n",
    "        \n",
    "        \n",
    "Stack().__push__(\"gcc\")\n",
    "Stack().__push__(\"liangzi\")"
   ]
  }
 ],
 "metadata": {
  "kernelspec": {
   "display_name": "Python 3",
   "language": "python",
   "name": "python3"
  },
  "language_info": {
   "codemirror_mode": {
    "name": "ipython",
    "version": 3
   },
   "file_extension": ".py",
   "mimetype": "text/x-python",
   "name": "python",
   "nbconvert_exporter": "python",
   "pygments_lexer": "ipython3",
   "version": "3.7.5"
  }
 },
 "nbformat": 4,
 "nbformat_minor": 4
}
